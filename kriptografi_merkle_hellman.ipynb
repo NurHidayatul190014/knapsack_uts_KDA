{
  "nbformat": 4,
  "nbformat_minor": 0,
  "metadata": {
    "colab": {
      "name": "kriptografi_merkle-hellman.ipynb",
      "provenance": [],
      "authorship_tag": "ABX9TyNWwTpdHKNG6R7PlbGBu4A1",
      "include_colab_link": true
    },
    "kernelspec": {
      "name": "python3",
      "display_name": "Python 3"
    },
    "language_info": {
      "name": "python"
    }
  },
  "cells": [
    {
      "cell_type": "markdown",
      "metadata": {
        "id": "view-in-github",
        "colab_type": "text"
      },
      "source": [
        "<a href=\"https://colab.research.google.com/github/NurHidayatul190014/knapsack_uts_KDA/blob/main/kriptografi_merkle_hellman.ipynb\" target=\"_parent\"><img src=\"https://colab.research.google.com/assets/colab-badge.svg\" alt=\"Open In Colab\"/></a>"
      ]
    },
    {
      "cell_type": "markdown",
      "metadata": {
        "id": "Mub6PaTLr2xp"
      },
      "source": [
        "# **Method Algoritma Merkle-Hellman**"
      ]
    },
    {
      "cell_type": "code",
      "metadata": {
        "id": "6KiIoRx8q84e"
      },
      "source": [
        "def textToBinary(kata_str): #convert text ke binary\n",
        "    res = ''.join(format(ord(i), '08b') for i in kata_str)\n",
        "    # print(\"teks ke Binary: \" + str(res))\n",
        "    return str(res)\n",
        "\n",
        "def binaryToText(s): #convert binary ke text\n",
        "    binary = ''.join(chr(int(s[i*8:i*8+8],2)) for i in range(len(s)//8))\n",
        "    # print(\"Binary ke teks: \"+ binary)\n",
        "    return binary\n",
        "\n",
        "def stringToList(string):\n",
        "    final_list= []\n",
        "    listRes = list(string.split(\", \"))\n",
        "    for i in listRes:\n",
        "        temp = int(i)\n",
        "        final_list.append(temp)\n",
        "    return final_list\n",
        "\n",
        "def generatePublicKey(superincrasing, m ,n):  #membuat public key\n",
        "    publicKey = []\n",
        "    for i in superincrasing:\n",
        "        a = (i * n)%m \n",
        "        publicKey.append(a)\n",
        "    return publicKey\n",
        "\n",
        "def enkripsi(plaintext, publicKey):\n",
        "    list_text = [] #membuat text jadi blok\n",
        "    teks = \"\"  #menampung teks sementara sebelum di masukkan list\n",
        "    for i in plaintext: #membagi dan memasukkan text dalam bentuk blok ke var list_text\n",
        "        teks += i\n",
        "        if len(teks) == 4:\n",
        "            list_text.append(teks)\n",
        "            teks = \"\"\n",
        "    \n",
        "    list_chiperteks = []\n",
        "    for i in list_text:  #blok dijadikan cipertext\n",
        "        kriptogram = 0\n",
        "        indeks = 0\n",
        "        for j in i: #hitungan menjadi kriptogram\n",
        "            hitung = (int(j)*publicKey[indeks])\n",
        "            kriptogram += hitung\n",
        "            indeks += 1\n",
        "\n",
        "        list_chiperteks.append(kriptogram) #masukkan kriptogram ke var list_chiperteks\n",
        "        indeks = 0\n",
        "        kriptogram = 0\n",
        "\n",
        "    return list_chiperteks\n",
        "\n",
        "def dekripsi(privateKey, m, n, list_chiperteks):\n",
        "    k = 0\n",
        "    loop = True\n",
        "    while loop: #mencari nilai n^-1\n",
        "        n_min1 = (1 + m * k)/n\n",
        "        loop = not n_min1.is_integer()\n",
        "        k += 1\n",
        "    \n",
        "    # mencari nilai dari enkripsi[x] * n_min1 % m lalu disimpan di list_hasil\n",
        "    list_hasil = []\n",
        "    for i in list_chiperteks:\n",
        "        hasil = i * n_min1 % m\n",
        "        list_hasil.append(hasil)\n",
        "\n",
        "    # proses deksripsi ke binary teks\n",
        "    #hasil mod di buat binary\n",
        "    plaintext = \"\"\n",
        "\n",
        "    for i in list_hasil: #tiap hasil mod dicari biner nya\n",
        "        hasil_mod = i\n",
        "        temp_plaintext = []\n",
        "        for i in range(len(privateKey) - 1, -1, -1): #pengurangan hasil modulus dengan isi private key\n",
        "            if hasil_mod >= privateKey[i]:\n",
        "                hasil_mod -= privateKey[i]\n",
        "                temp_plaintext.append(\"1\")\n",
        "            else:\n",
        "                temp_plaintext.append(\"0\")\n",
        "\n",
        "        # yang ada di temp_plaintext itu masih terbalik biner nya\n",
        "        #jadi ini di urutkan terus di jadikan satu di var plaintext nya\n",
        "        for i in range(len(temp_plaintext) - 1, -1, -1):\n",
        "            plaintext += temp_plaintext[i]\n",
        "\n",
        "    return plaintext"
      ],
      "execution_count": 48,
      "outputs": []
    },
    {
      "cell_type": "markdown",
      "metadata": {
        "id": "yi4a2X6PrfaY"
      },
      "source": [
        "# **Membuat kunci enkripsi dan dekripsi**"
      ]
    },
    {
      "cell_type": "code",
      "metadata": {
        "id": "JwIqsLIUrc6R"
      },
      "source": [
        "privateKey= [2, 3, 6, 13]\n",
        "m = 105\n",
        "n = 31\n",
        "publicKey = generatePublicKey(privateKey, m , n)"
      ],
      "execution_count": 49,
      "outputs": []
    },
    {
      "cell_type": "markdown",
      "metadata": {
        "id": "Mz-DmUP7ynar"
      },
      "source": [
        "# **Proses Enkripsi**"
      ]
    },
    {
      "cell_type": "code",
      "metadata": {
        "colab": {
          "base_uri": "https://localhost:8080/"
        },
        "id": "akjMBOb2rHVB",
        "outputId": "5a80b046-6967-491e-eddd-da3499743555"
      },
      "source": [
        "\n",
        "# input teks\n",
        "masuk = str(input(\"masukkan kata yang diinginkan = \"))\n",
        "print(\"\")\n",
        "\n",
        "# enkripsi\n",
        "plaintext = textToBinary(masuk)\n",
        "list_chiperteks =  enkripsi(plaintext, publicKey)\n",
        "print(\"hasil Enkripsi: \", list_chiperteks)"
      ],
      "execution_count": 54,
      "outputs": [
        {
          "output_type": "stream",
          "name": "stdout",
          "text": [
            "masukkan kata yang diinginkan = hay kawan ku semua\n",
            "\n",
            "hasil Enkripsi:  [174, 62, 174, 88, 262, 150, 81, 0, 174, 231, 174, 88, 262, 262, 174, 88, 174, 236, 81, 0, 174, 231, 262, 181, 81, 0, 262, 169, 174, 181, 174, 243, 262, 181, 174, 88]\n"
          ]
        }
      ]
    },
    {
      "cell_type": "markdown",
      "metadata": {
        "id": "_YKzeKeOy2lp"
      },
      "source": [
        "# **Proses Dekripsi**"
      ]
    },
    {
      "cell_type": "code",
      "metadata": {
        "colab": {
          "base_uri": "https://localhost:8080/"
        },
        "id": "SDK15ibYy9_5",
        "outputId": "51b80b41-869d-4452-cd50-22a9dc065681"
      },
      "source": [
        "#dekripsi\n",
        "input_to_dekripyt = str(input(\"masukkan hasil enkripsi: \"))\n",
        "list_dekrip = stringToList(input_to_dekripyt)\n",
        "dekrip = dekripsi(privateKey, m, n, list_dekrip)\n",
        "print(\"Hasil Dekripsi: \",binaryToText(dekrip))\n",
        "print(\"\")"
      ],
      "execution_count": 56,
      "outputs": [
        {
          "output_type": "stream",
          "name": "stdout",
          "text": [
            "masukkan hasil enkripsi: 174, 62, 174, 88, 262, 150, 81, 0, 174, 231, 174, 88, 262, 262, 174, 88, 174, 236, 81, 0, 174, 231, 262, 181, 81, 0, 262, 169, 174, 181, 174, 243, 262, 181, 174, 88\n",
            "Hasil Dekripsi:  hay kawan ku semua\n",
            "\n"
          ]
        }
      ]
    }
  ]
}